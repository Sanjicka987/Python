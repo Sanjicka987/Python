{
 "cells": [
  {
   "cell_type": "markdown",
   "id": "fb90e393",
   "metadata": {},
   "source": [
    "# Project description:\n",
    "\n",
    "Dr. Zeus has gathered some data from 1000 patients that have diabetes in a timespan of a year. The data has several columns depicting various information regarding how they are managing their condition. \n",
    "\n",
    "- 'Kolku dolgo e dijabeticar' - a column depicting (in years) the length of the condition that the patient has had,\n",
    "\n",
    "\n",
    "- 'Kolku mu e tromesechen (hemoglobin A1C) she4er' - a column depicting the last measured value of the hemoglobin A1C sugar levels every three months., \n",
    "\n",
    "\n",
    "- 'Dali e na insulin ili na tabli?' - information whether a patient is on insulin (value 1) or tablets (value 0), \n",
    "\n",
    "\n",
    "- 'Glukoza (momentalna) vo krv' - information about current glucose level, \n",
    "\n",
    "\n",
    "- 'Dali ima dijabetesna retinopatija?' - information whether the patient has (value 1) or does not have (value 0) diabetic retinopathy.\n",
    "\n",
    "    ## What needs to be done?\n",
    "\n",
    "\n",
    "- 1. In the Drive folder you have a dataset 'Diabetes_data.csv', read the dataset into Pandas.\n",
    "\n",
    "\n",
    "- 2. The data is slopily gathered and you need to rename, correct, and handle missing values. Check to see if any of the columns have null/missing values and determine the best strategy for cleaning up the data (including not doing anything). ..........(3 points total)\n",
    "\n",
    "\n",
    "- 3. Find the patient which currently has the highest glucose level. Sketch (on a plot of your choice) all of the patients glucose levels and describe the plot. Draw a conclusion on how the data behaves. .......... (3 points)\n",
    "\n",
    "\n",
    "- 4. Find the average number of hemoglobin A1C levels of patients per length of disease. Which duration of the disease has the highest average glucose levels? Sketch the data on a plot of your choice to best describe the data. Write a sentence or two describing how the data behaves.   .......... (3 points)\n",
    "\n",
    "\n",
    "- 5. Find the average duration of the disease for patients that are on insulin and patients that are on tablets. Compare the results. Which method that the patients use shows better results? .......... (3 points)\n",
    "\n",
    "\n",
    "- 6. A normal hemoglobin A1C glucose level is below 5.7. Divide the data in 2 groups (patients that have normal A1C level and patients that have elevated A1C level), then sketch the data using a plot of your choice dependent on the length of the disease. Distinguishing both groups. .......... (4 points)\n",
    "\n",
    "\n",
    "- 7. How do factors influence the outcome whether a patient will have (or not) diabetic retinopathy? Analyse whether there is a correlation or not between diabetic retinopathy and other data in the set. Do this by separating the patients into 2 groups and analyzing the characteristics of the groups with respect to various information. Plot various data points if possible. .......... (4 points)"
   ]
  },
  {
   "cell_type": "markdown",
   "id": "99720b54",
   "metadata": {},
   "source": [
    "---"
   ]
  },
  {
   "cell_type": "markdown",
   "id": "d261f667",
   "metadata": {},
   "source": [
    "### Libraries:"
   ]
  },
  {
   "cell_type": "code",
   "execution_count": 73,
   "id": "83090494",
   "metadata": {},
   "outputs": [],
   "source": [
    "import pandas as pd\n",
    "import numpy as np\n",
    "import matplotlib.pyplot as plt\n",
    "import seaborn as sns"
   ]
  },
  {
   "cell_type": "markdown",
   "id": "08137e32",
   "metadata": {},
   "source": [
    "---"
   ]
  },
  {
   "cell_type": "markdown",
   "id": "05e2033e",
   "metadata": {},
   "source": [
    "### 1. In the Drive folder you have a dataset 'Diabetes_data.csv', read the dataset into Pandas."
   ]
  },
  {
   "cell_type": "code",
   "execution_count": 74,
   "id": "dfbad634",
   "metadata": {},
   "outputs": [
    {
     "data": {
      "text/html": [
       "<div>\n",
       "<style scoped>\n",
       "    .dataframe tbody tr th:only-of-type {\n",
       "        vertical-align: middle;\n",
       "    }\n",
       "\n",
       "    .dataframe tbody tr th {\n",
       "        vertical-align: top;\n",
       "    }\n",
       "\n",
       "    .dataframe thead th {\n",
       "        text-align: right;\n",
       "    }\n",
       "</style>\n",
       "<table border=\"1\" class=\"dataframe\">\n",
       "  <thead>\n",
       "    <tr style=\"text-align: right;\">\n",
       "      <th></th>\n",
       "      <th>Unnamed: 0</th>\n",
       "      <th>Kolku dolgo e dijabeticar</th>\n",
       "      <th>Kolku mu e tromesechen (hemoglobin A1C) she4er</th>\n",
       "      <th>Dali e na insulin ili na tabli?</th>\n",
       "      <th>Glukoza (momentalna) vo krv</th>\n",
       "      <th>Dali ima dijabetesna retinopatija?</th>\n",
       "    </tr>\n",
       "  </thead>\n",
       "  <tbody>\n",
       "    <tr>\n",
       "      <th>0</th>\n",
       "      <td>0</td>\n",
       "      <td>3.0</td>\n",
       "      <td>9.522692</td>\n",
       "      <td>0.0</td>\n",
       "      <td>1.747037</td>\n",
       "      <td>1.0</td>\n",
       "    </tr>\n",
       "    <tr>\n",
       "      <th>1</th>\n",
       "      <td>1</td>\n",
       "      <td>40.0</td>\n",
       "      <td>6.397994</td>\n",
       "      <td>0.0</td>\n",
       "      <td>6.416253</td>\n",
       "      <td>1.0</td>\n",
       "    </tr>\n",
       "    <tr>\n",
       "      <th>2</th>\n",
       "      <td>2</td>\n",
       "      <td>38.0</td>\n",
       "      <td>7.079202</td>\n",
       "      <td>0.0</td>\n",
       "      <td>7.006710</td>\n",
       "      <td>0.0</td>\n",
       "    </tr>\n",
       "    <tr>\n",
       "      <th>3</th>\n",
       "      <td>3</td>\n",
       "      <td>16.0</td>\n",
       "      <td>4.400294</td>\n",
       "      <td>1.0</td>\n",
       "      <td>5.614222</td>\n",
       "      <td>0.0</td>\n",
       "    </tr>\n",
       "    <tr>\n",
       "      <th>4</th>\n",
       "      <td>4</td>\n",
       "      <td>17.0</td>\n",
       "      <td>4.746816</td>\n",
       "      <td>1.0</td>\n",
       "      <td>4.919372</td>\n",
       "      <td>1.0</td>\n",
       "    </tr>\n",
       "  </tbody>\n",
       "</table>\n",
       "</div>"
      ],
      "text/plain": [
       "   Unnamed: 0  Kolku dolgo e dijabeticar  \\\n",
       "0           0                        3.0   \n",
       "1           1                       40.0   \n",
       "2           2                       38.0   \n",
       "3           3                       16.0   \n",
       "4           4                       17.0   \n",
       "\n",
       "   Kolku mu e tromesechen (hemoglobin A1C) she4er  \\\n",
       "0                                        9.522692   \n",
       "1                                        6.397994   \n",
       "2                                        7.079202   \n",
       "3                                        4.400294   \n",
       "4                                        4.746816   \n",
       "\n",
       "   Dali e na insulin ili na tabli?  Glukoza (momentalna) vo krv  \\\n",
       "0                              0.0                     1.747037   \n",
       "1                              0.0                     6.416253   \n",
       "2                              0.0                     7.006710   \n",
       "3                              1.0                     5.614222   \n",
       "4                              1.0                     4.919372   \n",
       "\n",
       "   Dali ima dijabetesna retinopatija?  \n",
       "0                                 1.0  \n",
       "1                                 1.0  \n",
       "2                                 0.0  \n",
       "3                                 0.0  \n",
       "4                                 1.0  "
      ]
     },
     "execution_count": 74,
     "metadata": {},
     "output_type": "execute_result"
    }
   ],
   "source": [
    "df = pd.read_csv(\"Diabetes_data.csv\")\n",
    "\n",
    "df.head(5)"
   ]
  },
  {
   "cell_type": "markdown",
   "id": "038a53f0",
   "metadata": {},
   "source": [
    "---"
   ]
  },
  {
   "cell_type": "markdown",
   "id": "a489b404",
   "metadata": {},
   "source": [
    "### 2. The data is slopily gathered and you need to rename, correct, and handle missing values. Check to see if any of the columns have null/missing values and determine the best strategy for cleaning up the data (including not doing anything)."
   ]
  },
  {
   "cell_type": "code",
   "execution_count": 75,
   "id": "7ea10350",
   "metadata": {},
   "outputs": [],
   "source": [
    "# Rename all columns\n",
    "\n",
    "df = df.rename(columns = {\"Kolku dolgo e dijabeticar\":\"Period of Years as Diabetic\",\n",
    "                    \"Kolku mu e tromesechen (hemoglobin A1C) she4er\":\"3months Hemoglobin Level\",\n",
    "                     \"Dali e na insulin ili na tabli?\": \"Insulin / Pills\",\n",
    "                    \"Glukoza (momentalna) vo krv\" : \"Current Level of Glycemia\",\n",
    "                    \"Dali ima dijabetesna retinopatija?\":\"Diabetic retinopathy\"})"
   ]
  },
  {
   "cell_type": "code",
   "execution_count": 76,
   "id": "48ad7a3f",
   "metadata": {},
   "outputs": [],
   "source": [
    "# Delete column \"Unnamed: 0\"\n",
    "\n",
    "del df['Unnamed: 0']"
   ]
  },
  {
   "cell_type": "code",
   "execution_count": 77,
   "id": "89fa8f7c",
   "metadata": {},
   "outputs": [
    {
     "name": "stdout",
     "output_type": "stream",
     "text": [
      "<class 'pandas.core.frame.DataFrame'>\n",
      "RangeIndex: 1000 entries, 0 to 999\n",
      "Data columns (total 5 columns):\n",
      " #   Column                       Non-Null Count  Dtype  \n",
      "---  ------                       --------------  -----  \n",
      " 0   Period of Years as Diabetic  979 non-null    float64\n",
      " 1   3months Hemoglobin Level     973 non-null    float64\n",
      " 2   Insulin / Pills              988 non-null    float64\n",
      " 3   Current Level of Glycemia    986 non-null    float64\n",
      " 4   Diabetic retinopathy         970 non-null    float64\n",
      "dtypes: float64(5)\n",
      "memory usage: 39.2 KB\n"
     ]
    }
   ],
   "source": [
    "# Checking and handling null/missing values \n",
    "\n",
    "df.info()"
   ]
  },
  {
   "cell_type": "code",
   "execution_count": 78,
   "id": "987a2705",
   "metadata": {},
   "outputs": [
    {
     "data": {
      "text/html": [
       "<div>\n",
       "<style scoped>\n",
       "    .dataframe tbody tr th:only-of-type {\n",
       "        vertical-align: middle;\n",
       "    }\n",
       "\n",
       "    .dataframe tbody tr th {\n",
       "        vertical-align: top;\n",
       "    }\n",
       "\n",
       "    .dataframe thead th {\n",
       "        text-align: right;\n",
       "    }\n",
       "</style>\n",
       "<table border=\"1\" class=\"dataframe\">\n",
       "  <thead>\n",
       "    <tr style=\"text-align: right;\">\n",
       "      <th></th>\n",
       "      <th>0</th>\n",
       "    </tr>\n",
       "  </thead>\n",
       "  <tbody>\n",
       "    <tr>\n",
       "      <th>Period of Years as Diabetic</th>\n",
       "      <td>2.1</td>\n",
       "    </tr>\n",
       "    <tr>\n",
       "      <th>3months Hemoglobin Level</th>\n",
       "      <td>2.7</td>\n",
       "    </tr>\n",
       "    <tr>\n",
       "      <th>Insulin / Pills</th>\n",
       "      <td>1.2</td>\n",
       "    </tr>\n",
       "    <tr>\n",
       "      <th>Current Level of Glycemia</th>\n",
       "      <td>1.4</td>\n",
       "    </tr>\n",
       "    <tr>\n",
       "      <th>Diabetic retinopathy</th>\n",
       "      <td>3.0</td>\n",
       "    </tr>\n",
       "  </tbody>\n",
       "</table>\n",
       "</div>"
      ],
      "text/plain": [
       "                               0\n",
       "Period of Years as Diabetic  2.1\n",
       "3months Hemoglobin Level     2.7\n",
       "Insulin / Pills              1.2\n",
       "Current Level of Glycemia    1.4\n",
       "Diabetic retinopathy         3.0"
      ]
     },
     "execution_count": 78,
     "metadata": {},
     "output_type": "execute_result"
    }
   ],
   "source": [
    "# Finding the % of nulls values in each columns with function\n",
    "\n",
    "def find_nan_percentages(df):   \n",
    "    \n",
    "    result = dict()\n",
    "\n",
    "    for column in df.columns:\n",
    "\n",
    "        nan_percentage = round(df[column].isna().sum() / len(df[column]) * 100, 2)\n",
    "\n",
    "        result[column] = nan_percentage\n",
    "\n",
    "    stats_df = pd.DataFrame(result.values(), index=df.columns)\n",
    "\n",
    "    return stats_df\n",
    "\n",
    "\n",
    "nan_values = find_nan_percentages(df)\n",
    "nan_values"
   ]
  },
  {
   "cell_type": "code",
   "execution_count": 79,
   "id": "af25cfb7",
   "metadata": {},
   "outputs": [],
   "source": [
    "#za kolona Period of Years as Diabetic - redovite se izbrisani \n",
    "\n",
    "df = df[df['Period of Years as Diabetic'].notna()]"
   ]
  },
  {
   "cell_type": "code",
   "execution_count": 98,
   "id": "96917a64",
   "metadata": {},
   "outputs": [],
   "source": [
    "#Za kolona '3months Hemoglobin Level' , popolneti so sredna vrednost\n",
    "\n",
    "df['3months Hemoglobin Level'].fillna(df['3months Hemoglobin Level'].mean(),inplace = True)"
   ]
  },
  {
   "cell_type": "code",
   "execution_count": 44,
   "id": "62ff7d89",
   "metadata": {},
   "outputs": [],
   "source": [
    "#Za kolona Insulin / Pills, ramnomerna raspredelba so postoeckite vrednosti 1 i 0\n",
    "\n",
    "df['Insulin / Pills'].value_counts()\n",
    "\n",
    "df[df['Insulin / Pills'].isnull()].index.tolist()  #total 11\n",
    "\n",
    "df['Insulin / Pills'] = df['Insulin / Pills'].fillna(value = 1, limit = 6)\n",
    "\n",
    "df['Insulin / Pills'] =df['Insulin / Pills'].fillna(value = 0, limit = 5)\n"
   ]
  },
  {
   "cell_type": "code",
   "execution_count": 45,
   "id": "2ee31445",
   "metadata": {},
   "outputs": [],
   "source": [
    "#Za kolona 'Current Level of Glycemia' , popolneti so sredna vrednost\n",
    "\n",
    "df['Current Level of Glycemia']=df['Current Level of Glycemia'].fillna(df['Current Level of Glycemia'].mean())"
   ]
  },
  {
   "cell_type": "code",
   "execution_count": 50,
   "id": "9733733b",
   "metadata": {},
   "outputs": [],
   "source": [
    "#Za kolona Diabetic retinopathy, ramnomerna raspredelba so postoeckite vrednosti 1 i 0\n",
    "\n",
    "df['Diabetic retinopathy'].value_counts()\n",
    "\n",
    "df[df['Diabetic retinopathy'].isnull()].index.tolist()\n",
    "\n",
    "df['Diabetic retinopathy'] = df['Diabetic retinopathy'].fillna(value = 1.0, limit = 15)\n",
    "\n",
    "df['Diabetic retinopathy'] = df['Diabetic retinopathy'].fillna(value = 1.0, limit = 15)\n",
    "\n"
   ]
  },
  {
   "cell_type": "code",
   "execution_count": 52,
   "id": "c4d300cc",
   "metadata": {},
   "outputs": [
    {
     "name": "stdout",
     "output_type": "stream",
     "text": [
      "<class 'pandas.core.frame.DataFrame'>\n",
      "Int64Index: 979 entries, 0 to 999\n",
      "Data columns (total 5 columns):\n",
      " #   Column                       Non-Null Count  Dtype  \n",
      "---  ------                       --------------  -----  \n",
      " 0   Period of Years as Diabetic  979 non-null    float64\n",
      " 1   3months Hemoglobin Level     979 non-null    float64\n",
      " 2   Insulin / Pills              979 non-null    float64\n",
      " 3   Current Level of Glycemia    979 non-null    float64\n",
      " 4   Diabetic retinopathy         979 non-null    float64\n",
      "dtypes: float64(5)\n",
      "memory usage: 45.9 KB\n"
     ]
    }
   ],
   "source": [
    "# DataFrame sostojba\n",
    "\n",
    "df.info()"
   ]
  },
  {
   "cell_type": "markdown",
   "id": "ad9f8fa8",
   "metadata": {},
   "source": [
    "---"
   ]
  },
  {
   "cell_type": "markdown",
   "id": "4e9f1123",
   "metadata": {},
   "source": [
    "### 3. Find the patient which currently has the highest glucose level. Sketch (on a plot of your choice) all of the patients glucose levels and describe the plot. Draw a conclusion on how the data behaves."
   ]
  },
  {
   "cell_type": "code",
   "execution_count": 53,
   "id": "2b311af0",
   "metadata": {},
   "outputs": [
    {
     "data": {
      "text/plain": [
       "Index(['Period of Years as Diabetic', '3months Hemoglobin Level',\n",
       "       'Insulin / Pills', 'Current Level of Glycemia', 'Diabetic retinopathy'],\n",
       "      dtype='object')"
      ]
     },
     "execution_count": 53,
     "metadata": {},
     "output_type": "execute_result"
    }
   ],
   "source": [
    "df.columns"
   ]
  },
  {
   "cell_type": "code",
   "execution_count": 58,
   "id": "58cea1db",
   "metadata": {},
   "outputs": [
    {
     "data": {
      "text/html": [
       "<div>\n",
       "<style scoped>\n",
       "    .dataframe tbody tr th:only-of-type {\n",
       "        vertical-align: middle;\n",
       "    }\n",
       "\n",
       "    .dataframe tbody tr th {\n",
       "        vertical-align: top;\n",
       "    }\n",
       "\n",
       "    .dataframe thead th {\n",
       "        text-align: right;\n",
       "    }\n",
       "</style>\n",
       "<table border=\"1\" class=\"dataframe\">\n",
       "  <thead>\n",
       "    <tr style=\"text-align: right;\">\n",
       "      <th></th>\n",
       "      <th>Period of Years as Diabetic</th>\n",
       "      <th>3months Hemoglobin Level</th>\n",
       "      <th>Insulin / Pills</th>\n",
       "      <th>Current Level of Glycemia</th>\n",
       "      <th>Diabetic retinopathy</th>\n",
       "    </tr>\n",
       "  </thead>\n",
       "  <tbody>\n",
       "    <tr>\n",
       "      <th>664</th>\n",
       "      <td>36.0</td>\n",
       "      <td>6.521587</td>\n",
       "      <td>1.0</td>\n",
       "      <td>12.598831</td>\n",
       "      <td>0.0</td>\n",
       "    </tr>\n",
       "  </tbody>\n",
       "</table>\n",
       "</div>"
      ],
      "text/plain": [
       "     Period of Years as Diabetic  3months Hemoglobin Level  Insulin / Pills  \\\n",
       "664                         36.0                  6.521587              1.0   \n",
       "\n",
       "     Current Level of Glycemia  Diabetic retinopathy  \n",
       "664                  12.598831                   0.0  "
      ]
     },
     "execution_count": 58,
     "metadata": {},
     "output_type": "execute_result"
    }
   ],
   "source": [
    "df.groupby('Current Level of Glycemia')['Current Level of Glycemia'].max().sort_values(ascending = False)\n",
    "\n",
    "df[df['Current Level of Glycemia'] ==df['Current Level of Glycemia'].max()]\n"
   ]
  },
  {
   "cell_type": "code",
   "execution_count": 61,
   "id": "f8aafffc",
   "metadata": {},
   "outputs": [
    {
     "data": {
      "text/plain": [
       "<AxesSubplot:xlabel='Period of Years as Diabetic', ylabel='Current Level of Glycemia'>"
      ]
     },
     "execution_count": 61,
     "metadata": {},
     "output_type": "execute_result"
    },
    {
     "data": {
      "image/png": "[encoded data removed]",
      "text/plain": [
       "<Figure size 1080x360 with 1 Axes>"
      ]
     },
     "metadata": {
      "needs_background": "light"
     },
     "output_type": "display_data"
    }
   ],
   "source": [
    "# Visualization\n",
    "\n",
    "plt.figure(figsize=(15,5))\n",
    "\n",
    "sns.lineplot(data = df, x ='Period of Years as Diabetic', y = 'Current Level of Glycemia')\n",
    "\n",
    "\n",
    "#Od prikazaniot grafik moze da zaklucime deka, najvisoko nivo na seker ima kaj pacientite koj se veke nad 35 godini dijabeticari, \n",
    "# dodeka najnisko nivo ima kaj pacientite sto se dijabeticari pomedju 15 i 20 godini ."
   ]
  },
  {
   "cell_type": "markdown",
   "id": "b7133fb4",
   "metadata": {},
   "source": [
    "---"
   ]
  },
  {
   "cell_type": "markdown",
   "id": "4476ff82",
   "metadata": {},
   "source": [
    "### 4. Find the average number of hemoglobin A1C levels of patients per length of disease. Which duration of the disease has the highest average glucose levels? Sketch the data on a plot of your choice to best describe the data. Write a sentence or two describing how the data behaves."
   ]
  },
  {
   "cell_type": "code",
   "execution_count": 186,
   "id": "1157ff59",
   "metadata": {},
   "outputs": [
    {
     "data": {
      "text/plain": [
       "<AxesSubplot:xlabel='Period'>"
      ]
     },
     "execution_count": 186,
     "metadata": {},
     "output_type": "execute_result"
    },
    {
     "data": {
      "image/png": "[encoded data removed]",
      "text/plain": [
       "<Figure size 1080x720 with 1 Axes>"
      ]
     },
     "metadata": {
      "needs_background": "light"
     },
     "output_type": "display_data"
    }
   ],
   "source": [
    "avg_a1c = df.groupby('Period of Years as Diabetic')['3months Hemoglobin Level'].mean()\n",
    "\n",
    "max_avg_glucose = df.groupby('Period of Years as Diabetic')['Current Level of Glycemia'].mean()\n",
    "\n",
    "df_avg_a1c = pd.DataFrame()\n",
    "df_avg_a1c['Period'] = avg_a1c.index\n",
    "df_avg_a1c['AVG A1C'] =avg_a1c.values\n",
    "\n",
    "df_max_avg_glucose=pd.DataFrame()\n",
    "df_max_avg_glucose['Period']=max_avg_glucose.index\n",
    "df_max_avg_glucose['Max AVG Glucose']=max_avg_glucose.values\n",
    "\n",
    "\n",
    "merge_data = pd.merge(df_avg_a1c,df_max_avg_glucose, on=\"Period\")\n",
    "\n",
    "\n",
    "fig, ax = plt.subplots()\n",
    "merge_data.plot.bar(x = 'Period', y = ['AVG A1C', 'Max AVG Glucose'],figsize=(15, 10),fontsize=8, rot = 10, ax = ax)\n",
    "\n",
    "\n",
    "# Vo glabola, mozeme da zaklicume deka prosecnata vrednost na hemoglobin vo princip e pogolema od max vrednost an sekerot.\n",
    "#Najvisokite vrednosti se vo periodot od 30 do 40 god."
   ]
  },
  {
   "cell_type": "markdown",
   "id": "228fe0b6",
   "metadata": {},
   "source": [
    "---"
   ]
  },
  {
   "cell_type": "markdown",
   "id": "3cb1183f",
   "metadata": {},
   "source": [
    "### 5. Find the average duration of the disease for patients that are on insulin and patients that are on tablets. Compare the results. Which method that the patients use shows better results?"
   ]
  },
  {
   "cell_type": "code",
   "execution_count": 191,
   "id": "6b8e5134",
   "metadata": {},
   "outputs": [
    {
     "data": {
      "text/plain": [
       "<matplotlib.legend.Legend at 0x2d96be7fee0>"
      ]
     },
     "execution_count": 191,
     "metadata": {},
     "output_type": "execute_result"
    },
    {
     "data": {
      "image/png": "[encoded data removed]",
      "text/plain": [
       "<Figure size 432x288 with 1 Axes>"
      ]
     },
     "metadata": {},
     "output_type": "display_data"
    }
   ],
   "source": [
    "df1 = df.groupby('Insulin / Pills')['Period of Years as Diabetic'].mean()\n",
    "\n",
    "mylabels = ['Insulin','Pills']\n",
    "\n",
    "plt.pie(df1,labels = mylabels,autopct='%1.1f%%')\n",
    "plt.legend()\n",
    "\n",
    "\n",
    "#Od samiot pie char zaklucuvame deka,skoro i da nema razlika dali pacinetite koristat insulin ili tableti. \n",
    "#Prosecniot period na bolesta e skoro identicen."
   ]
  },
  {
   "cell_type": "markdown",
   "id": "ab99c9ec",
   "metadata": {},
   "source": [
    "---"
   ]
  },
  {
   "cell_type": "markdown",
   "id": "533d0d09",
   "metadata": {},
   "source": [
    "### 6. A normal hemoglobin A1C glucose level is below 5.7. Divide the data in 2 groups (patients that have normal A1C level and patients that have elevated A1C level), then sketch the data using a plot of your choice dependent on the length of the disease. Distinguishing both groups."
   ]
  },
  {
   "cell_type": "code",
   "execution_count": 192,
   "id": "e64be08c",
   "metadata": {},
   "outputs": [
    {
     "data": {
      "text/plain": [
       "Index(['Period of Years as Diabetic', '3months Hemoglobin Level',\n",
       "       'Insulin / Pills', 'Current Level of Glycemia', 'Diabetic retinopathy'],\n",
       "      dtype='object')"
      ]
     },
     "execution_count": 192,
     "metadata": {},
     "output_type": "execute_result"
    }
   ],
   "source": [
    "df.columns"
   ]
  },
  {
   "cell_type": "code",
   "execution_count": 205,
   "id": "d6f9beda",
   "metadata": {},
   "outputs": [
    {
     "name": "stderr",
     "output_type": "stream",
     "text": [
      "C:\\Users\\trpe8\\anaconda3\\lib\\site-packages\\seaborn\\_decorators.py:36: FutureWarning: Pass the following variables as keyword args: x, y. From version 0.12, the only valid positional argument will be `data`, and passing other arguments without an explicit keyword will result in an error or misinterpretation.\n",
      "  warnings.warn(\n",
      "C:\\Users\\trpe8\\anaconda3\\lib\\site-packages\\seaborn\\_decorators.py:36: FutureWarning: Pass the following variables as keyword args: x, y. From version 0.12, the only valid positional argument will be `data`, and passing other arguments without an explicit keyword will result in an error or misinterpretation.\n",
      "  warnings.warn(\n"
     ]
    },
    {
     "data": {
      "text/plain": [
       "<matplotlib.legend.Legend at 0x2d969276e20>"
      ]
     },
     "execution_count": 205,
     "metadata": {},
     "output_type": "execute_result"
    },
    {
     "data": {
      "image/png": "[encoded data removed]",
      "text/plain": [
       "<Figure size 432x288 with 1 Axes>"
      ]
     },
     "metadata": {
      "needs_background": "light"
     },
     "output_type": "display_data"
    }
   ],
   "source": [
    "normal = df[df['3months Hemoglobin Level'] <= 5.7]\n",
    "elavated =  df[df['3months Hemoglobin Level'] > 5.7]\n",
    "\n",
    "sns.scatterplot( normal['Period of Years as Diabetic'],normal['3months Hemoglobin Level'])\n",
    "sns.scatterplot( elavated['Period of Years as Diabetic'],elavated['3months Hemoglobin Level'])\n",
    "\n"
   ]
  },
  {
   "cell_type": "markdown",
   "id": "37fbeed6",
   "metadata": {},
   "source": [
    "---"
   ]
  },
  {
   "cell_type": "markdown",
   "id": "7194a6ae",
   "metadata": {},
   "source": [
    "### 7. How do factors influence the outcome whether a patient will have (or not) diabetic retinopathy? Analyse whether there is a correlation or not between diabetic retinopathy and other data in the set. Do this by separating the patients into 2 groups and analyzing the characteristics of the groups with respect to various information. Plot various data points if possible."
   ]
  },
  {
   "cell_type": "code",
   "execution_count": null,
   "id": "d29dcb06",
   "metadata": {},
   "outputs": [],
   "source": []
  },
  {
   "cell_type": "markdown",
   "id": "6e58e030",
   "metadata": {},
   "source": [
    "---"
   ]
  }
 ],
 "metadata": {
  "kernelspec": {
   "display_name": "Python 3 (ipykernel)",
   "language": "python",
   "name": "python3"
  },
  "language_info": {
   "codemirror_mode": {
    "name": "ipython",
    "version": 3
   },
   "file_extension": ".py",
   "mimetype": "text/x-python",
   "name": "python",
   "nbconvert_exporter": "python",
   "pygments_lexer": "ipython3",
   "version": "3.9.7"
  }
 },
 "nbformat": 4,
 "nbformat_minor": 5
}
